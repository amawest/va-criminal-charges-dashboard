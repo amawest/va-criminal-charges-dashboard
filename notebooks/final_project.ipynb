{
 "cells": [
  {
   "cell_type": "markdown",
   "metadata": {},
   "source": [
    "# Final Project Cleaning with Pandas"
   ]
  },
  {
   "cell_type": "code",
   "execution_count": 3,
   "metadata": {},
   "outputs": [],
   "source": [
    "#import sys\n",
    "#sys.path.append(\"/opt/anaconda3/lib/python3.8/site-packages\")"
   ]
  },
  {
   "cell_type": "code",
   "execution_count": 4,
   "metadata": {},
   "outputs": [],
   "source": [
    "import pyspark\n",
    "import pandas as pd\n",
    "import pyspark.sql\n",
    "from pyspark.sql import SparkSession"
   ]
  },
  {
   "cell_type": "code",
   "execution_count": 5,
   "metadata": {},
   "outputs": [
    {
     "name": "stderr",
     "output_type": "stream",
     "text": [
      "/Users/amawest/opt/anaconda3/lib/python3.8/site-packages/IPython/core/interactiveshell.py:3165: DtypeWarning: Columns (39) have mixed types.Specify dtype option on import or set low_memory=False.\n",
      "  has_raised = await self.run_ast_nodes(code_ast.body, cell_name,\n",
      "/Users/amawest/opt/anaconda3/lib/python3.8/site-packages/IPython/core/interactiveshell.py:3165: DtypeWarning: Columns (5,27,39) have mixed types.Specify dtype option on import or set low_memory=False.\n",
      "  has_raised = await self.run_ast_nodes(code_ast.body, cell_name,\n",
      "/Users/amawest/opt/anaconda3/lib/python3.8/site-packages/IPython/core/interactiveshell.py:3165: DtypeWarning: Columns (39,42) have mixed types.Specify dtype option on import or set low_memory=False.\n",
      "  has_raised = await self.run_ast_nodes(code_ast.body, cell_name,\n"
     ]
    }
   ],
   "source": [
    "data_2010 = pd.read_csv('circuit_data/circuit_criminal_2010_anon_00.csv')\n",
    "data_2011 = pd.read_csv('circuit_data/circuit_criminal_2011_anon_00.csv')\n",
    "data_2012 = pd.read_csv('circuit_data/circuit_criminal_2012_anon_00.csv')\n",
    "data_2013 = pd.read_csv('circuit_data/circuit_criminal_2013_anon_00.csv')\n",
    "data_2014 = pd.read_csv('circuit_data/circuit_criminal_2014_anon_00.csv')\n",
    "data_2015 = pd.read_csv('circuit_data/circuit_criminal_2015_anon_00.csv')\n",
    "data_2016 = pd.read_csv('circuit_data/circuit_criminal_2016_anon_00.csv')\n",
    "data_2017 = pd.read_csv('circuit_data/circuit_criminal_2017_anon_00.csv')\n",
    "data_2018 = pd.read_csv('circuit_data/circuit_criminal_2018_anon_00.csv')\n",
    "data_2019 = pd.read_csv('circuit_data/circuit_criminal_2019_anon_00.csv')"
   ]
  },
  {
   "cell_type": "code",
   "execution_count": 6,
   "metadata": {
    "scrolled": true
   },
   "outputs": [
    {
     "data": {
      "text/html": [
       "<div>\n",
       "<style scoped>\n",
       "    .dataframe tbody tr th:only-of-type {\n",
       "        vertical-align: middle;\n",
       "    }\n",
       "\n",
       "    .dataframe tbody tr th {\n",
       "        vertical-align: top;\n",
       "    }\n",
       "\n",
       "    .dataframe thead th {\n",
       "        text-align: right;\n",
       "    }\n",
       "</style>\n",
       "<table border=\"1\" class=\"dataframe\">\n",
       "  <thead>\n",
       "    <tr style=\"text-align: right;\">\n",
       "      <th></th>\n",
       "      <th>HearingDate</th>\n",
       "      <th>HearingResult</th>\n",
       "      <th>HearingJury</th>\n",
       "      <th>HearingPlea</th>\n",
       "      <th>HearingType</th>\n",
       "      <th>HearingRoom</th>\n",
       "      <th>fips</th>\n",
       "      <th>Filed</th>\n",
       "      <th>Commencedby</th>\n",
       "      <th>Locality</th>\n",
       "      <th>...</th>\n",
       "      <th>DrivingRestrictions</th>\n",
       "      <th>RestrictionEffectiveDate</th>\n",
       "      <th>RestrictionEndDate</th>\n",
       "      <th>VAAlcoholSafetyAction</th>\n",
       "      <th>RestitutionPaid</th>\n",
       "      <th>RestitutionAmount</th>\n",
       "      <th>Military</th>\n",
       "      <th>TrafficFatality</th>\n",
       "      <th>AppealedDate</th>\n",
       "      <th>person_id</th>\n",
       "    </tr>\n",
       "  </thead>\n",
       "  <tbody>\n",
       "    <tr>\n",
       "      <th>0</th>\n",
       "      <td>2010-12-17</td>\n",
       "      <td>Not Guilty</td>\n",
       "      <td>t</td>\n",
       "      <td>NaN</td>\n",
       "      <td>Jury Trial</td>\n",
       "      <td>NaN</td>\n",
       "      <td>99</td>\n",
       "      <td>2010-09-23</td>\n",
       "      <td>Indictment</td>\n",
       "      <td>COMMONWEALTH OF VA</td>\n",
       "      <td>...</td>\n",
       "      <td>NaN</td>\n",
       "      <td>NaN</td>\n",
       "      <td>NaN</td>\n",
       "      <td>NaN</td>\n",
       "      <td>NaN</td>\n",
       "      <td>NaN</td>\n",
       "      <td>NaN</td>\n",
       "      <td>NaN</td>\n",
       "      <td>NaN</td>\n",
       "      <td>166070000000710</td>\n",
       "    </tr>\n",
       "    <tr>\n",
       "      <th>1</th>\n",
       "      <td>2010-12-17</td>\n",
       "      <td>Not Guilty</td>\n",
       "      <td>t</td>\n",
       "      <td>NaN</td>\n",
       "      <td>Jury Trial</td>\n",
       "      <td>NaN</td>\n",
       "      <td>99</td>\n",
       "      <td>2010-09-23</td>\n",
       "      <td>Indictment</td>\n",
       "      <td>COMMONWEALTH OF VA</td>\n",
       "      <td>...</td>\n",
       "      <td>NaN</td>\n",
       "      <td>NaN</td>\n",
       "      <td>NaN</td>\n",
       "      <td>NaN</td>\n",
       "      <td>NaN</td>\n",
       "      <td>NaN</td>\n",
       "      <td>NaN</td>\n",
       "      <td>NaN</td>\n",
       "      <td>NaN</td>\n",
       "      <td>166070000000710</td>\n",
       "    </tr>\n",
       "  </tbody>\n",
       "</table>\n",
       "<p>2 rows × 50 columns</p>\n",
       "</div>"
      ],
      "text/plain": [
       "  HearingDate HearingResult HearingJury HearingPlea HearingType HearingRoom  \\\n",
       "0  2010-12-17    Not Guilty           t         NaN  Jury Trial         NaN   \n",
       "1  2010-12-17    Not Guilty           t         NaN  Jury Trial         NaN   \n",
       "\n",
       "   fips       Filed Commencedby            Locality  ... DrivingRestrictions  \\\n",
       "0    99  2010-09-23  Indictment  COMMONWEALTH OF VA  ...                 NaN   \n",
       "1    99  2010-09-23  Indictment  COMMONWEALTH OF VA  ...                 NaN   \n",
       "\n",
       "  RestrictionEffectiveDate RestrictionEndDate VAAlcoholSafetyAction  \\\n",
       "0                      NaN                NaN                   NaN   \n",
       "1                      NaN                NaN                   NaN   \n",
       "\n",
       "  RestitutionPaid RestitutionAmount Military TrafficFatality AppealedDate  \\\n",
       "0             NaN               NaN      NaN             NaN          NaN   \n",
       "1             NaN               NaN      NaN             NaN          NaN   \n",
       "\n",
       "         person_id  \n",
       "0  166070000000710  \n",
       "1  166070000000710  \n",
       "\n",
       "[2 rows x 50 columns]"
      ]
     },
     "execution_count": 6,
     "metadata": {},
     "output_type": "execute_result"
    }
   ],
   "source": [
    "data_2010.head(2)"
   ]
  },
  {
   "cell_type": "code",
   "execution_count": 7,
   "metadata": {},
   "outputs": [],
   "source": [
    "def unique_arrests(file):\n",
    "    return file['person_id'].nunique()"
   ]
  },
  {
   "cell_type": "code",
   "execution_count": 8,
   "metadata": {},
   "outputs": [],
   "source": [
    "# these are for the total population estimates\n",
    "arrests_2010 = unique_arrests(data_2010)\n",
    "arrests_2011 = unique_arrests(data_2011)\n",
    "arrests_2012 = unique_arrests(data_2012)\n",
    "arrests_2013 = unique_arrests(data_2013)\n",
    "arrests_2014 = unique_arrests(data_2014)\n",
    "arrests_2015 = unique_arrests(data_2015)\n",
    "arrests_2016 = unique_arrests(data_2016)\n",
    "arrests_2017 = unique_arrests(data_2017)\n",
    "arrests_2018 = unique_arrests(data_2018)\n",
    "arrests_2019 = unique_arrests(data_2019)"
   ]
  },
  {
   "cell_type": "markdown",
   "metadata": {},
   "source": [
    "# How much race data is missing? \n",
    "- I'll put this in the corner of my visual!"
   ]
  },
  {
   "cell_type": "code",
   "execution_count": 7,
   "metadata": {},
   "outputs": [
    {
     "data": {
      "text/plain": [
       "array(['Black (Non-Hispanic)', 'White Caucasian (Non-Hispanic)',\n",
       "       'Asian Or Pacific Islander', 'Hispanic', nan,\n",
       "       'Other (Includes Not Applicable, Unknown)', 'American Indian'],\n",
       "      dtype=object)"
      ]
     },
     "execution_count": 7,
     "metadata": {},
     "output_type": "execute_result"
    }
   ],
   "source": [
    "#data_2010.Race.unique()"
   ]
  },
  {
   "cell_type": "code",
   "execution_count": 8,
   "metadata": {},
   "outputs": [
    {
     "data": {
      "text/plain": [
       "White Caucasian (Non-Hispanic)              91889\n",
       "Black (Non-Hispanic)                        73240\n",
       "Hispanic                                     1540\n",
       "Other (Includes Not Applicable, Unknown)      904\n",
       "Asian Or Pacific Islander                     715\n",
       "American Indian                                91\n",
       "Name: Race, dtype: int64"
      ]
     },
     "execution_count": 8,
     "metadata": {},
     "output_type": "execute_result"
    }
   ],
   "source": [
    "#data_2010['Race'].value_counts()"
   ]
  },
  {
   "cell_type": "code",
   "execution_count": 9,
   "metadata": {},
   "outputs": [
    {
     "data": {
      "text/plain": [
       "167475"
      ]
     },
     "execution_count": 9,
     "metadata": {},
     "output_type": "execute_result"
    }
   ],
   "source": [
    "#91889+73240+1540+715+91"
   ]
  },
  {
   "cell_type": "code",
   "execution_count": 10,
   "metadata": {},
   "outputs": [],
   "source": [
    "#data_2010_unique = data_2010.drop_duplicates(subset=['person_id'], keep='first')"
   ]
  },
  {
   "cell_type": "code",
   "execution_count": 11,
   "metadata": {},
   "outputs": [
    {
     "data": {
      "text/plain": [
       "White Caucasian (Non-Hispanic)              36534\n",
       "Black (Non-Hispanic)                        32222\n",
       "Hispanic                                      770\n",
       "Other (Includes Not Applicable, Unknown)      510\n",
       "Asian Or Pacific Islander                     329\n",
       "American Indian                                56\n",
       "Name: Race, dtype: int64"
      ]
     },
     "execution_count": 11,
     "metadata": {},
     "output_type": "execute_result"
    }
   ],
   "source": [
    "#data_2010_unique['Race'].value_counts()"
   ]
  },
  {
   "cell_type": "code",
   "execution_count": 12,
   "metadata": {},
   "outputs": [
    {
     "name": "stdout",
     "output_type": "stream",
     "text": [
      "2010 Missing Race Data: 1.09 %\n"
     ]
    }
   ],
   "source": [
    "#print('2010 Missing Race Data:', \n",
    "#      round(((arrests_2010 - (36534+32222+770+329+56)) / arrests_2010)*100, 2), \n",
    "#      '%')"
   ]
  },
  {
   "cell_type": "markdown",
   "metadata": {},
   "source": [
    "# Split to get counties only (matches Census)"
   ]
  },
  {
   "cell_type": "code",
   "execution_count": 9,
   "metadata": {},
   "outputs": [
    {
     "data": {
      "text/plain": [
       "0    KING GEORGE,VA 22485\n",
       "1    KING GEORGE,VA 22485\n",
       "2    KING GEORGE,VA 22485\n",
       "3    KING GEORGE,VA 22485\n",
       "Name: Address, dtype: object"
      ]
     },
     "execution_count": 9,
     "metadata": {},
     "output_type": "execute_result"
    }
   ],
   "source": [
    "# I have the zips but not the counties - will need to convert to counties\n",
    "data_2010.Address[0:4]"
   ]
  },
  {
   "cell_type": "code",
   "execution_count": 14,
   "metadata": {},
   "outputs": [],
   "source": [
    "import addfips\n",
    "import zipcodes"
   ]
  },
  {
   "cell_type": "code",
   "execution_count": 15,
   "metadata": {
    "scrolled": true
   },
   "outputs": [
    {
     "name": "stdout",
     "output_type": "stream",
     "text": [
      "Albemarle County\n",
      "Barry County\n"
     ]
    }
   ],
   "source": [
    "# test libraries to make sure they work\n",
    "# this function matches county to zip\n",
    "af = addfips.AddFIPS()\n",
    "# test that it works based on 2 zipcodes --> counties I know\n",
    "info = zipcodes.matching('22901') # my current residence (VA)\n",
    "print(info[0]['county'])\n",
    "info = zipcodes.matching('49046') # my hometown (MI)\n",
    "print(info[0]['county'])"
   ]
  },
  {
   "cell_type": "code",
   "execution_count": 16,
   "metadata": {},
   "outputs": [],
   "source": [
    "# step 3: we need zipcodes, we we'll need to extract them from the addresses\n",
    "data_2010[['city_state', 'zip']] = data_2010.Address.str.rsplit(\" \", n=1, expand=True,)\n",
    "data_2010_zips = data_2010[data_2010['zip'].notnull()]\n",
    "\n",
    "# a few zip codes create an error because they don't have a corresponding county,\n",
    "# this should be rewritten so that the loop happening a few lines later learns\n",
    "# to just past over these zips to avoid breaking (and for when we add data later)\n",
    "data_2010_zips = data_2010_zips[~data_2010_zips['zip'].str.contains('-')]   # there's a messed up zip in row 50k\n",
    "data_2010_zips = data_2010_zips[data_2010_zips['zip'].str.contains('(?<!\\n)[\\d]{5,6}[\\-]?[\\d]*')]\n",
    "data_2010_zips = data_2010_zips[data_2010_zips['city_state'].str.contains('VA')]"
   ]
  },
  {
   "cell_type": "code",
   "execution_count": 17,
   "metadata": {},
   "outputs": [
    {
     "data": {
      "text/html": [
       "<div>\n",
       "<style scoped>\n",
       "    .dataframe tbody tr th:only-of-type {\n",
       "        vertical-align: middle;\n",
       "    }\n",
       "\n",
       "    .dataframe tbody tr th {\n",
       "        vertical-align: top;\n",
       "    }\n",
       "\n",
       "    .dataframe thead th {\n",
       "        text-align: right;\n",
       "    }\n",
       "</style>\n",
       "<table border=\"1\" class=\"dataframe\">\n",
       "  <thead>\n",
       "    <tr style=\"text-align: right;\">\n",
       "      <th></th>\n",
       "      <th>HearingDate</th>\n",
       "      <th>HearingResult</th>\n",
       "      <th>HearingJury</th>\n",
       "      <th>HearingPlea</th>\n",
       "      <th>HearingType</th>\n",
       "      <th>HearingRoom</th>\n",
       "      <th>fips</th>\n",
       "      <th>Filed</th>\n",
       "      <th>Commencedby</th>\n",
       "      <th>Locality</th>\n",
       "      <th>...</th>\n",
       "      <th>RestrictionEndDate</th>\n",
       "      <th>VAAlcoholSafetyAction</th>\n",
       "      <th>RestitutionPaid</th>\n",
       "      <th>RestitutionAmount</th>\n",
       "      <th>Military</th>\n",
       "      <th>TrafficFatality</th>\n",
       "      <th>AppealedDate</th>\n",
       "      <th>person_id</th>\n",
       "      <th>city_state</th>\n",
       "      <th>zip</th>\n",
       "    </tr>\n",
       "  </thead>\n",
       "  <tbody>\n",
       "    <tr>\n",
       "      <th>0</th>\n",
       "      <td>2010-12-17</td>\n",
       "      <td>Not Guilty</td>\n",
       "      <td>t</td>\n",
       "      <td>NaN</td>\n",
       "      <td>Jury Trial</td>\n",
       "      <td>NaN</td>\n",
       "      <td>99</td>\n",
       "      <td>2010-09-23</td>\n",
       "      <td>Indictment</td>\n",
       "      <td>COMMONWEALTH OF VA</td>\n",
       "      <td>...</td>\n",
       "      <td>NaN</td>\n",
       "      <td>NaN</td>\n",
       "      <td>NaN</td>\n",
       "      <td>NaN</td>\n",
       "      <td>NaN</td>\n",
       "      <td>NaN</td>\n",
       "      <td>NaN</td>\n",
       "      <td>166070000000710</td>\n",
       "      <td>KING GEORGE,VA</td>\n",
       "      <td>22485</td>\n",
       "    </tr>\n",
       "    <tr>\n",
       "      <th>1</th>\n",
       "      <td>2010-12-17</td>\n",
       "      <td>Not Guilty</td>\n",
       "      <td>t</td>\n",
       "      <td>NaN</td>\n",
       "      <td>Jury Trial</td>\n",
       "      <td>NaN</td>\n",
       "      <td>99</td>\n",
       "      <td>2010-09-23</td>\n",
       "      <td>Indictment</td>\n",
       "      <td>COMMONWEALTH OF VA</td>\n",
       "      <td>...</td>\n",
       "      <td>NaN</td>\n",
       "      <td>NaN</td>\n",
       "      <td>NaN</td>\n",
       "      <td>NaN</td>\n",
       "      <td>NaN</td>\n",
       "      <td>NaN</td>\n",
       "      <td>NaN</td>\n",
       "      <td>166070000000710</td>\n",
       "      <td>KING GEORGE,VA</td>\n",
       "      <td>22485</td>\n",
       "    </tr>\n",
       "    <tr>\n",
       "      <th>2</th>\n",
       "      <td>2010-12-17</td>\n",
       "      <td>Not Guilty</td>\n",
       "      <td>t</td>\n",
       "      <td>NaN</td>\n",
       "      <td>Jury Trial</td>\n",
       "      <td>NaN</td>\n",
       "      <td>99</td>\n",
       "      <td>2010-09-23</td>\n",
       "      <td>Indictment</td>\n",
       "      <td>COMMONWEALTH OF VA</td>\n",
       "      <td>...</td>\n",
       "      <td>NaN</td>\n",
       "      <td>NaN</td>\n",
       "      <td>NaN</td>\n",
       "      <td>NaN</td>\n",
       "      <td>NaN</td>\n",
       "      <td>NaN</td>\n",
       "      <td>NaN</td>\n",
       "      <td>166070000000710</td>\n",
       "      <td>KING GEORGE,VA</td>\n",
       "      <td>22485</td>\n",
       "    </tr>\n",
       "    <tr>\n",
       "      <th>3</th>\n",
       "      <td>2010-12-17</td>\n",
       "      <td>Not Guilty</td>\n",
       "      <td>t</td>\n",
       "      <td>NaN</td>\n",
       "      <td>Jury Trial</td>\n",
       "      <td>NaN</td>\n",
       "      <td>99</td>\n",
       "      <td>2010-09-23</td>\n",
       "      <td>Indictment</td>\n",
       "      <td>COMMONWEALTH OF VA</td>\n",
       "      <td>...</td>\n",
       "      <td>NaN</td>\n",
       "      <td>NaN</td>\n",
       "      <td>NaN</td>\n",
       "      <td>NaN</td>\n",
       "      <td>NaN</td>\n",
       "      <td>NaN</td>\n",
       "      <td>NaN</td>\n",
       "      <td>166070000000710</td>\n",
       "      <td>KING GEORGE,VA</td>\n",
       "      <td>22485</td>\n",
       "    </tr>\n",
       "    <tr>\n",
       "      <th>4</th>\n",
       "      <td>2010-12-17</td>\n",
       "      <td>Not Guilty</td>\n",
       "      <td>t</td>\n",
       "      <td>NaN</td>\n",
       "      <td>Jury Trial</td>\n",
       "      <td>NaN</td>\n",
       "      <td>99</td>\n",
       "      <td>2010-09-23</td>\n",
       "      <td>Indictment</td>\n",
       "      <td>COMMONWEALTH OF VA</td>\n",
       "      <td>...</td>\n",
       "      <td>NaN</td>\n",
       "      <td>NaN</td>\n",
       "      <td>NaN</td>\n",
       "      <td>NaN</td>\n",
       "      <td>NaN</td>\n",
       "      <td>NaN</td>\n",
       "      <td>NaN</td>\n",
       "      <td>166070000000710</td>\n",
       "      <td>KING GEORGE,VA</td>\n",
       "      <td>22485</td>\n",
       "    </tr>\n",
       "    <tr>\n",
       "      <th>...</th>\n",
       "      <td>...</td>\n",
       "      <td>...</td>\n",
       "      <td>...</td>\n",
       "      <td>...</td>\n",
       "      <td>...</td>\n",
       "      <td>...</td>\n",
       "      <td>...</td>\n",
       "      <td>...</td>\n",
       "      <td>...</td>\n",
       "      <td>...</td>\n",
       "      <td>...</td>\n",
       "      <td>...</td>\n",
       "      <td>...</td>\n",
       "      <td>...</td>\n",
       "      <td>...</td>\n",
       "      <td>...</td>\n",
       "      <td>...</td>\n",
       "      <td>...</td>\n",
       "      <td>...</td>\n",
       "      <td>...</td>\n",
       "      <td>...</td>\n",
       "    </tr>\n",
       "    <tr>\n",
       "      <th>168806</th>\n",
       "      <td>2010-01-05</td>\n",
       "      <td>Sent</td>\n",
       "      <td>NaN</td>\n",
       "      <td>NaN</td>\n",
       "      <td>Sentencing</td>\n",
       "      <td>NaN</td>\n",
       "      <td>19</td>\n",
       "      <td>2009-01-23</td>\n",
       "      <td>Direct Indictment</td>\n",
       "      <td>COMMONWEALTH OF VA</td>\n",
       "      <td>...</td>\n",
       "      <td>NaN</td>\n",
       "      <td>NaN</td>\n",
       "      <td>NaN</td>\n",
       "      <td>NaN</td>\n",
       "      <td>NaN</td>\n",
       "      <td>NaN</td>\n",
       "      <td>NaN</td>\n",
       "      <td>253030000000577</td>\n",
       "      <td>FOREST, VA</td>\n",
       "      <td>24551</td>\n",
       "    </tr>\n",
       "    <tr>\n",
       "      <th>168807</th>\n",
       "      <td>2010-01-05</td>\n",
       "      <td>Sent</td>\n",
       "      <td>NaN</td>\n",
       "      <td>NaN</td>\n",
       "      <td>Sentencing</td>\n",
       "      <td>NaN</td>\n",
       "      <td>19</td>\n",
       "      <td>2009-01-23</td>\n",
       "      <td>Direct Indictment</td>\n",
       "      <td>COMMONWEALTH OF VA</td>\n",
       "      <td>...</td>\n",
       "      <td>NaN</td>\n",
       "      <td>NaN</td>\n",
       "      <td>NaN</td>\n",
       "      <td>NaN</td>\n",
       "      <td>NaN</td>\n",
       "      <td>NaN</td>\n",
       "      <td>NaN</td>\n",
       "      <td>253030000000577</td>\n",
       "      <td>FOREST, VA</td>\n",
       "      <td>24551</td>\n",
       "    </tr>\n",
       "    <tr>\n",
       "      <th>168808</th>\n",
       "      <td>2010-01-05</td>\n",
       "      <td>Nolle Prosequi</td>\n",
       "      <td>NaN</td>\n",
       "      <td>NaN</td>\n",
       "      <td>Plea</td>\n",
       "      <td>NaN</td>\n",
       "      <td>19</td>\n",
       "      <td>2009-07-07</td>\n",
       "      <td>Indictment</td>\n",
       "      <td>COMMONWEALTH OF VA</td>\n",
       "      <td>...</td>\n",
       "      <td>NaN</td>\n",
       "      <td>NaN</td>\n",
       "      <td>NaN</td>\n",
       "      <td>NaN</td>\n",
       "      <td>NaN</td>\n",
       "      <td>NaN</td>\n",
       "      <td>NaN</td>\n",
       "      <td>265101000000248</td>\n",
       "      <td>FOREST, VA</td>\n",
       "      <td>24551</td>\n",
       "    </tr>\n",
       "    <tr>\n",
       "      <th>168809</th>\n",
       "      <td>2010-01-05</td>\n",
       "      <td>Nolle Prosequi</td>\n",
       "      <td>NaN</td>\n",
       "      <td>NaN</td>\n",
       "      <td>Plea</td>\n",
       "      <td>NaN</td>\n",
       "      <td>19</td>\n",
       "      <td>2009-07-07</td>\n",
       "      <td>Indictment</td>\n",
       "      <td>COMMONWEALTH OF VA</td>\n",
       "      <td>...</td>\n",
       "      <td>NaN</td>\n",
       "      <td>NaN</td>\n",
       "      <td>NaN</td>\n",
       "      <td>NaN</td>\n",
       "      <td>NaN</td>\n",
       "      <td>NaN</td>\n",
       "      <td>NaN</td>\n",
       "      <td>265101000000248</td>\n",
       "      <td>FOREST, VA</td>\n",
       "      <td>24551</td>\n",
       "    </tr>\n",
       "    <tr>\n",
       "      <th>168810</th>\n",
       "      <td>2010-01-05</td>\n",
       "      <td>Nolle Prosequi</td>\n",
       "      <td>NaN</td>\n",
       "      <td>NaN</td>\n",
       "      <td>Plea</td>\n",
       "      <td>NaN</td>\n",
       "      <td>19</td>\n",
       "      <td>2009-07-07</td>\n",
       "      <td>Indictment</td>\n",
       "      <td>COMMONWEALTH OF VA</td>\n",
       "      <td>...</td>\n",
       "      <td>NaN</td>\n",
       "      <td>NaN</td>\n",
       "      <td>NaN</td>\n",
       "      <td>NaN</td>\n",
       "      <td>NaN</td>\n",
       "      <td>NaN</td>\n",
       "      <td>NaN</td>\n",
       "      <td>265101000000248</td>\n",
       "      <td>FOREST, VA</td>\n",
       "      <td>24551</td>\n",
       "    </tr>\n",
       "  </tbody>\n",
       "</table>\n",
       "<p>128541 rows × 52 columns</p>\n",
       "</div>"
      ],
      "text/plain": [
       "       HearingDate   HearingResult HearingJury HearingPlea HearingType  \\\n",
       "0       2010-12-17      Not Guilty           t         NaN  Jury Trial   \n",
       "1       2010-12-17      Not Guilty           t         NaN  Jury Trial   \n",
       "2       2010-12-17      Not Guilty           t         NaN  Jury Trial   \n",
       "3       2010-12-17      Not Guilty           t         NaN  Jury Trial   \n",
       "4       2010-12-17      Not Guilty           t         NaN  Jury Trial   \n",
       "...            ...             ...         ...         ...         ...   \n",
       "168806  2010-01-05            Sent         NaN         NaN  Sentencing   \n",
       "168807  2010-01-05            Sent         NaN         NaN  Sentencing   \n",
       "168808  2010-01-05  Nolle Prosequi         NaN         NaN        Plea   \n",
       "168809  2010-01-05  Nolle Prosequi         NaN         NaN        Plea   \n",
       "168810  2010-01-05  Nolle Prosequi         NaN         NaN        Plea   \n",
       "\n",
       "       HearingRoom  fips       Filed        Commencedby            Locality  \\\n",
       "0              NaN    99  2010-09-23         Indictment  COMMONWEALTH OF VA   \n",
       "1              NaN    99  2010-09-23         Indictment  COMMONWEALTH OF VA   \n",
       "2              NaN    99  2010-09-23         Indictment  COMMONWEALTH OF VA   \n",
       "3              NaN    99  2010-09-23         Indictment  COMMONWEALTH OF VA   \n",
       "4              NaN    99  2010-09-23         Indictment  COMMONWEALTH OF VA   \n",
       "...            ...   ...         ...                ...                 ...   \n",
       "168806         NaN    19  2009-01-23  Direct Indictment  COMMONWEALTH OF VA   \n",
       "168807         NaN    19  2009-01-23  Direct Indictment  COMMONWEALTH OF VA   \n",
       "168808         NaN    19  2009-07-07         Indictment  COMMONWEALTH OF VA   \n",
       "168809         NaN    19  2009-07-07         Indictment  COMMONWEALTH OF VA   \n",
       "168810         NaN    19  2009-07-07         Indictment  COMMONWEALTH OF VA   \n",
       "\n",
       "        ... RestrictionEndDate VAAlcoholSafetyAction RestitutionPaid  \\\n",
       "0       ...                NaN                   NaN             NaN   \n",
       "1       ...                NaN                   NaN             NaN   \n",
       "2       ...                NaN                   NaN             NaN   \n",
       "3       ...                NaN                   NaN             NaN   \n",
       "4       ...                NaN                   NaN             NaN   \n",
       "...     ...                ...                   ...             ...   \n",
       "168806  ...                NaN                   NaN             NaN   \n",
       "168807  ...                NaN                   NaN             NaN   \n",
       "168808  ...                NaN                   NaN             NaN   \n",
       "168809  ...                NaN                   NaN             NaN   \n",
       "168810  ...                NaN                   NaN             NaN   \n",
       "\n",
       "       RestitutionAmount Military TrafficFatality AppealedDate  \\\n",
       "0                    NaN      NaN             NaN          NaN   \n",
       "1                    NaN      NaN             NaN          NaN   \n",
       "2                    NaN      NaN             NaN          NaN   \n",
       "3                    NaN      NaN             NaN          NaN   \n",
       "4                    NaN      NaN             NaN          NaN   \n",
       "...                  ...      ...             ...          ...   \n",
       "168806               NaN      NaN             NaN          NaN   \n",
       "168807               NaN      NaN             NaN          NaN   \n",
       "168808               NaN      NaN             NaN          NaN   \n",
       "168809               NaN      NaN             NaN          NaN   \n",
       "168810               NaN      NaN             NaN          NaN   \n",
       "\n",
       "              person_id      city_state    zip  \n",
       "0       166070000000710  KING GEORGE,VA  22485  \n",
       "1       166070000000710  KING GEORGE,VA  22485  \n",
       "2       166070000000710  KING GEORGE,VA  22485  \n",
       "3       166070000000710  KING GEORGE,VA  22485  \n",
       "4       166070000000710  KING GEORGE,VA  22485  \n",
       "...                 ...             ...    ...  \n",
       "168806  253030000000577      FOREST, VA  24551  \n",
       "168807  253030000000577      FOREST, VA  24551  \n",
       "168808  265101000000248      FOREST, VA  24551  \n",
       "168809  265101000000248      FOREST, VA  24551  \n",
       "168810  265101000000248      FOREST, VA  24551  \n",
       "\n",
       "[128541 rows x 52 columns]"
      ]
     },
     "execution_count": 17,
     "metadata": {},
     "output_type": "execute_result"
    }
   ],
   "source": [
    "data_2010_zips"
   ]
  },
  {
   "cell_type": "code",
   "execution_count": 18,
   "metadata": {},
   "outputs": [],
   "source": [
    "data_2010_zips['county'] = 0\n",
    "data_2010_zips['state']  = 'Virginia'"
   ]
  },
  {
   "cell_type": "code",
   "execution_count": 19,
   "metadata": {},
   "outputs": [
    {
     "name": "stderr",
     "output_type": "stream",
     "text": [
      "<ipython-input-19-c97d8f21594d>:12: SettingWithCopyWarning: \n",
      "A value is trying to be set on a copy of a slice from a DataFrame\n",
      "\n",
      "See the caveats in the documentation: https://pandas.pydata.org/pandas-docs/stable/user_guide/indexing.html#returning-a-view-versus-a-copy\n",
      "  data_2010_zips['county'][i] = info[0]['county']\n",
      "/Users/amawest/opt/anaconda3/lib/python3.8/site-packages/pandas/core/indexing.py:1637: SettingWithCopyWarning: \n",
      "A value is trying to be set on a copy of a slice from a DataFrame\n",
      "\n",
      "See the caveats in the documentation: https://pandas.pydata.org/pandas-docs/stable/user_guide/indexing.html#returning-a-view-versus-a-copy\n",
      "  self._setitem_single_block(indexer, value, name)\n"
     ]
    }
   ],
   "source": [
    "# add in the county names \n",
    "# we'll get in error because we are setting values for entire columns to be 0 (so we can fill them in)\n",
    "for i in range(len(data_2010_zips)):\n",
    "    # we can use try-except here because we don't need the bad zip entries to be included - they will just go\n",
    "    # towards the final \"missing\" chunk, anyways. \n",
    "    try:\n",
    "        info = zipcodes.matching(list(data_2010_zips['zip'])[i])\n",
    "    except:\n",
    "        pass\n",
    "    if info == []:\n",
    "        pass\n",
    "    else: \n",
    "        data_2010_zips['county'][i] = info[0]['county']"
   ]
  },
  {
   "cell_type": "code",
   "execution_count": 20,
   "metadata": {
    "scrolled": false
   },
   "outputs": [],
   "source": [
    "i\n",
    "data_2010_zips[i:i+1]"
   ]
  },
  {
   "cell_type": "code",
   "execution_count": 21,
   "metadata": {},
   "outputs": [],
   "source": [
    "print('2010 Missing Address Data:', \n",
    "      round(((arrests_2010 - (36534+32222+770+329+56)) / arrests_2010)*100, 2), \n",
    "      '%')"
   ]
  },
  {
   "cell_type": "markdown",
   "metadata": {},
   "source": [
    "# Run it on all years"
   ]
  },
  {
   "cell_type": "code",
   "execution_count": 29,
   "metadata": {},
   "outputs": [
    {
     "data": {
      "text/plain": [
       "range(100000, 128541)"
      ]
     },
     "execution_count": 29,
     "metadata": {},
     "output_type": "execute_result"
    }
   ],
   "source": [
    "file = data_2010_zips\n",
    "file_zips = file[file['zip'].notnull()]\n",
    "range(100000, len(file_zips))"
   ]
  },
  {
   "cell_type": "code",
   "execution_count": 16,
   "metadata": {},
   "outputs": [
    {
     "name": "stderr",
     "output_type": "stream",
     "text": [
      "/Library/Python/3.8/site-packages/IPython/core/interactiveshell.py:3146: DtypeWarning: Columns (40,52,53) have mixed types.Specify dtype option on import or set low_memory=False.\n",
      "  has_raised = await self.run_ast_nodes(code_ast.body, cell_name,\n",
      "/Library/Python/3.8/site-packages/IPython/core/interactiveshell.py:3146: DtypeWarning: Columns (28,40,53) have mixed types.Specify dtype option on import or set low_memory=False.\n",
      "  has_raised = await self.run_ast_nodes(code_ast.body, cell_name,\n",
      "/Library/Python/3.8/site-packages/IPython/core/interactiveshell.py:3146: DtypeWarning: Columns (40,53) have mixed types.Specify dtype option on import or set low_memory=False.\n",
      "  has_raised = await self.run_ast_nodes(code_ast.body, cell_name,\n",
      "/Library/Python/3.8/site-packages/IPython/core/interactiveshell.py:3146: DtypeWarning: Columns (28,40,52,53) have mixed types.Specify dtype option on import or set low_memory=False.\n",
      "  has_raised = await self.run_ast_nodes(code_ast.body, cell_name,\n"
     ]
    }
   ],
   "source": [
    "data_2010_zips = pd.read_csv('circuit_data/zips_circuit_criminal_2010.csv')\n",
    "data_2011_zips = pd.read_csv('circuit_data/zips_circuit_criminal_2011.csv')\n",
    "data_2012_zips = pd.read_csv('circuit_data/zips_circuit_criminal_2012.csv')\n",
    "data_2013_zips = pd.read_csv('circuit_data/zips_circuit_criminal_2013.csv')\n",
    "data_2014_zips = pd.read_csv('circuit_data/zips_circuit_criminal_2014.csv')\n",
    "data_2015_zips = pd.read_csv('circuit_data/zips_circuit_criminal_2015.csv')\n",
    "data_2016_zips = pd.read_csv('circuit_data/zips_circuit_criminal_2016.csv')\n",
    "data_2017_zips = pd.read_csv('circuit_data/zips_circuit_criminal_2017.csv')\n",
    "data_2018_zips = pd.read_csv('circuit_data/zips_circuit_criminal_2018.csv')\n",
    "data_2019_zips = pd.read_csv('circuit_data/zips_circuit_criminal_2019.csv')"
   ]
  },
  {
   "cell_type": "code",
   "execution_count": 45,
   "metadata": {},
   "outputs": [],
   "source": [
    "def get_counties(file):\n",
    "    \"\"\"Adds the county of residence for every person with a valid zipcode.\"\"\"\n",
    "    \n",
    "    # step 3: we need zipcodes, we we'll need to extract them from the addresses\n",
    "    file[['city_state', 'zip']] = file.Address.str.rsplit(\" \", n=1, expand=True,)\n",
    "    file_zips = file[file['zip'].notnull()]\n",
    "    \n",
    "    # a few zip codes create an error because they don't have a corresponding county,\n",
    "    # this should be rewritten so that the loop happening a few lines later learns\n",
    "    # to just past over these zips to avoid breaking (and for when we add data later)\n",
    "    file_zips = file_zips[~file_zips['zip'].str.contains('-')]\n",
    "    file_zips = file_zips[file_zips['zip'].str.contains('(?<!\\n)[\\d]{5,6}[\\-]?[\\d]*')]\n",
    "    file_zips = file_zips[file_zips['city_state'].str.contains('VA')]\n",
    "    \n",
    "    # create space for few values\n",
    "    file_zips['county'] = 0\n",
    "    file_zips['state']  = 'Virginia'\n",
    "    \n",
    "    # add in the county names \n",
    "    for i in range(0, len(file_zips)):\n",
    "        # we can use try-except here because we don't need the bad zip entries to be included - they will just go\n",
    "        # towards the final \"missing\" chunk, anyways. \n",
    "        if file_zips['county'][i] == 0:\n",
    "            try:\n",
    "                info = zipcodes.matching(list(file_zips['zip'])[i])\n",
    "            except:\n",
    "                pass\n",
    "            if info == []:\n",
    "                pass\n",
    "            else: \n",
    "                file_zips['county'][i] = info[0]['county']\n",
    "        return file_zips"
   ]
  },
  {
   "cell_type": "code",
   "execution_count": 23,
   "metadata": {},
   "outputs": [
    {
     "name": "stderr",
     "output_type": "stream",
     "text": [
      "<ipython-input-22-892df4656871>:30: SettingWithCopyWarning: \n",
      "A value is trying to be set on a copy of a slice from a DataFrame\n",
      "\n",
      "See the caveats in the documentation: https://pandas.pydata.org/pandas-docs/stable/user_guide/indexing.html#returning-a-view-versus-a-copy\n",
      "  file_zips['county'][i] = info[0]['county']\n",
      "/Users/amawest/Library/Python/3.8/lib/python/site-packages/pandas/core/indexing.py:1636: SettingWithCopyWarning: \n",
      "A value is trying to be set on a copy of a slice from a DataFrame\n",
      "\n",
      "See the caveats in the documentation: https://pandas.pydata.org/pandas-docs/stable/user_guide/indexing.html#returning-a-view-versus-a-copy\n",
      "  self._setitem_single_block(indexer, value, name)\n"
     ]
    }
   ],
   "source": [
    "data_2010_zips = get_counties(data_2010)\n",
    "data_2011_zips = get_counties(data_2011)\n",
    "data_2012_zips = get_counties(data_2012)\n",
    "data_2013_zips = get_counties(data_2013)\n",
    "data_2014_zips = get_counties(data_2014)\n",
    "data_2015_zips = get_counties(data_2015)\n",
    "data_2016_zips = get_counties(data_2016)\n",
    "data_2017_zips = get_counties(data_2017)\n",
    "data_2018_zips = get_counties(data_2018)\n",
    "data_2019_zips = get_counties(data_2019)"
   ]
  },
  {
   "cell_type": "markdown",
   "metadata": {},
   "source": [
    "# Work out the bugs that seem to be a timeout error"
   ]
  },
  {
   "cell_type": "code",
   "execution_count": null,
   "metadata": {},
   "outputs": [],
   "source": []
  },
  {
   "cell_type": "code",
   "execution_count": null,
   "metadata": {},
   "outputs": [],
   "source": []
  },
  {
   "cell_type": "code",
   "execution_count": null,
   "metadata": {},
   "outputs": [],
   "source": []
  },
  {
   "cell_type": "code",
   "execution_count": null,
   "metadata": {},
   "outputs": [],
   "source": []
  },
  {
   "cell_type": "markdown",
   "metadata": {},
   "source": [
    "# Sweet! Once we have counties, we can officially compare the counts against the Census data"
   ]
  },
  {
   "cell_type": "code",
   "execution_count": null,
   "metadata": {},
   "outputs": [],
   "source": [
    "# saved zipcodes to csv\n",
    "data_2010_zips_2.to_csv('circuit_data/zips_circuit_criminal_2010.csv')\n",
    "data_2011_zips_2.to_csv('circuit_data/zips_circuit_criminal_2011.csv')\n",
    "data_2012_zips_2.to_csv('circuit_data/zips_circuit_criminal_2012.csv')\n",
    "data_2013_zips_2.to_csv('circuit_data/zips_circuit_criminal_2013.csv')\n",
    "data_2014_zips_2.to_csv('circuit_data/zips_circuit_criminal_2014.csv')\n",
    "data_2015_zips_2.to_csv('circuit_data/zips_circuit_criminal_2015.csv')\n",
    "data_2016_zips_2.to_csv('circuit_data/zips_circuit_criminal_2016.csv')\n",
    "data_2017_zips_2.to_csv('circuit_data/zips_circuit_criminal_2017.csv')\n",
    "data_2018_zips_2.to_csv('circuit_data/zips_circuit_criminal_2018.csv')\n",
    "data_2019_zips_2.to_csv('circuit_data/zips_circuit_criminal_2019.csv')"
   ]
  },
  {
   "cell_type": "code",
   "execution_count": 24,
   "metadata": {},
   "outputs": [],
   "source": [
    "data_2010_zips.to_csv('circuit_data/zips_circuit_criminal_2010.csv')\n",
    "data_2011_zips.to_csv('circuit_data/zips_circuit_criminal_2011.csv')\n",
    "data_2012_zips.to_csv('circuit_data/zips_circuit_criminal_2012.csv')\n",
    "data_2013_zips.to_csv('circuit_data/zips_circuit_criminal_2013.csv')\n",
    "data_2014_zips.to_csv('circuit_data/zips_circuit_criminal_2014.csv')\n",
    "data_2015_zips.to_csv('circuit_data/zips_circuit_criminal_2015.csv')\n",
    "data_2016_zips.to_csv('circuit_data/zips_circuit_criminal_2016.csv')\n",
    "data_2017_zips.to_csv('circuit_data/zips_circuit_criminal_2017.csv')\n",
    "data_2018_zips.to_csv('circuit_data/zips_circuit_criminal_2018.csv')\n",
    "data_2019_zips.to_csv('circuit_data/zips_circuit_criminal_2019.csv')"
   ]
  },
  {
   "cell_type": "code",
   "execution_count": 46,
   "metadata": {},
   "outputs": [],
   "source": [
    "data_2010_zips_2 = get_counties(data_2010_zips)\n",
    "data_2011_zips_2 = get_counties(data_2011_zips)\n",
    "data_2012_zips_2 = get_counties(data_2012_zips)\n",
    "data_2013_zips_2 = get_counties(data_2013_zips)\n",
    "data_2014_zips_2 = get_counties(data_2014_zips)\n",
    "data_2015_zips_2 = get_counties(data_2015_zips)\n",
    "data_2016_zips_2 = get_counties(data_2016_zips)\n",
    "data_2017_zips_2 = get_counties(data_2017_zips)\n",
    "data_2018_zips_2 = get_counties(data_2018_zips)\n",
    "data_2019_zips_2 = get_counties(data_2019_zips)"
   ]
  },
  {
   "cell_type": "code",
   "execution_count": null,
   "metadata": {},
   "outputs": [],
   "source": []
  },
  {
   "cell_type": "code",
   "execution_count": null,
   "metadata": {},
   "outputs": [],
   "source": []
  }
 ],
 "metadata": {
  "kernelspec": {
   "display_name": "Python 3",
   "language": "python",
   "name": "python3"
  },
  "language_info": {
   "codemirror_mode": {
    "name": "ipython",
    "version": 3
   },
   "file_extension": ".py",
   "mimetype": "text/x-python",
   "name": "python",
   "nbconvert_exporter": "python",
   "pygments_lexer": "ipython3",
   "version": "3.8.8"
  }
 },
 "nbformat": 4,
 "nbformat_minor": 4
}
