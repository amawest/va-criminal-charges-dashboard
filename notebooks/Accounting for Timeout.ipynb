{
 "cells": [
  {
   "cell_type": "code",
   "execution_count": 10,
   "id": "6a21b6a1",
   "metadata": {},
   "outputs": [],
   "source": [
    "import pandas as pd\n",
    "import numpy as np"
   ]
  },
  {
   "cell_type": "code",
   "execution_count": 65,
   "id": "1f954ef0",
   "metadata": {},
   "outputs": [
    {
     "name": "stderr",
     "output_type": "stream",
     "text": [
      "/Users/amawest/opt/anaconda3/lib/python3.8/site-packages/IPython/core/interactiveshell.py:3165: DtypeWarning: Columns (40,52,53) have mixed types.Specify dtype option on import or set low_memory=False.\n",
      "  has_raised = await self.run_ast_nodes(code_ast.body, cell_name,\n"
     ]
    }
   ],
   "source": [
    "data_2010 = pd.read_csv('circuit_data/zips_circuit_criminal_2010.csv')\n",
    "data_2011 = pd.read_csv('circuit_data/zips_circuit_criminal_2011.csv')\n",
    "data_2012 = pd.read_csv('circuit_data/zips_circuit_criminal_2012.csv')\n",
    "data_2013 = pd.read_csv('circuit_data/zips_circuit_criminal_2013.csv')\n",
    "data_2014 = pd.read_csv('circuit_data/zips_circuit_criminal_2014.csv')\n",
    "data_2015 = pd.read_csv('circuit_data/zips_circuit_criminal_2015.csv')\n",
    "data_2016 = pd.read_csv('circuit_data/zips_circuit_criminal_2016.csv')\n",
    "data_2017 = pd.read_csv('circuit_data/zips_circuit_criminal_2017.csv')\n",
    "data_2018 = pd.read_csv('circuit_data/zips_circuit_criminal_2018.csv')\n",
    "data_2019 = pd.read_csv('circuit_data/zips_circuit_criminal_2019.csv')\n",
    "\n",
    "data_zip_county = data_2010[['zip', 'county']].drop_duplicates()\n",
    "data_zip_county = data_zip_county.drop_duplicates(subset=['zip'])\n",
    "data_zip_county = data_zip_county[data_zip_county['county'].str.len() > 1]\n",
    "data_zip_county\n",
    "\n",
    "del data_2010['county']\n",
    "data_2010 = pd.merge(data_2010, data_zip_county, how='left', on=\"zip\")\n",
    "\n"
   ]
  },
  {
   "cell_type": "code",
   "execution_count": null,
   "id": "0f29cd80",
   "metadata": {},
   "outputs": [],
   "source": [
    "data_zip_county = data_2010[['zip', 'county']].drop_duplicates()\n",
    "data_zip_county = data_zip_county.drop_duplicates(subset=['zip'])\n",
    "data_zip_county = data_zip_county[data_zip_county['county'].str.len() > 1]\n",
    "data_zip_county\n",
    "\n",
    "del data_2010['county']\n",
    "data_2010 = pd.merge(data_2010, data_zip_county, how='left', on=\"zip\")"
   ]
  },
  {
   "cell_type": "code",
   "execution_count": 84,
   "id": "78de114b",
   "metadata": {},
   "outputs": [
    {
     "data": {
      "text/html": [
       "<div>\n",
       "<style scoped>\n",
       "    .dataframe tbody tr th:only-of-type {\n",
       "        vertical-align: middle;\n",
       "    }\n",
       "\n",
       "    .dataframe tbody tr th {\n",
       "        vertical-align: top;\n",
       "    }\n",
       "\n",
       "    .dataframe thead th {\n",
       "        text-align: right;\n",
       "    }\n",
       "</style>\n",
       "<table border=\"1\" class=\"dataframe\">\n",
       "  <thead>\n",
       "    <tr style=\"text-align: right;\">\n",
       "      <th></th>\n",
       "      <th>zip</th>\n",
       "      <th>county</th>\n",
       "    </tr>\n",
       "  </thead>\n",
       "  <tbody>\n",
       "    <tr>\n",
       "      <th>0</th>\n",
       "      <td>22485</td>\n",
       "      <td>King George County</td>\n",
       "    </tr>\n",
       "    <tr>\n",
       "      <th>18</th>\n",
       "      <td>22572</td>\n",
       "      <td>Westmoreland County</td>\n",
       "    </tr>\n",
       "    <tr>\n",
       "      <th>19</th>\n",
       "      <td>22520</td>\n",
       "      <td>Westmoreland County</td>\n",
       "    </tr>\n",
       "    <tr>\n",
       "      <th>35</th>\n",
       "      <td>22408</td>\n",
       "      <td>Wise County</td>\n",
       "    </tr>\n",
       "    <tr>\n",
       "      <th>37</th>\n",
       "      <td>24230</td>\n",
       "      <td>King George County</td>\n",
       "    </tr>\n",
       "    <tr>\n",
       "      <th>...</th>\n",
       "      <td>...</td>\n",
       "      <td>...</td>\n",
       "    </tr>\n",
       "    <tr>\n",
       "      <th>98556</th>\n",
       "      <td>24549</td>\n",
       "      <td>Bedford County</td>\n",
       "    </tr>\n",
       "    <tr>\n",
       "      <th>98650</th>\n",
       "      <td>24088</td>\n",
       "      <td>Lynchburg city</td>\n",
       "    </tr>\n",
       "    <tr>\n",
       "      <th>98670</th>\n",
       "      <td>24137</td>\n",
       "      <td>Lynchburg city</td>\n",
       "    </tr>\n",
       "    <tr>\n",
       "      <th>98700</th>\n",
       "      <td>241078</td>\n",
       "      <td>Bedford County</td>\n",
       "    </tr>\n",
       "    <tr>\n",
       "      <th>98702</th>\n",
       "      <td>24168</td>\n",
       "      <td>Bedford County</td>\n",
       "    </tr>\n",
       "  </tbody>\n",
       "</table>\n",
       "<p>1680 rows × 2 columns</p>\n",
       "</div>"
      ],
      "text/plain": [
       "          zip               county\n",
       "0       22485   King George County\n",
       "18      22572  Westmoreland County\n",
       "19      22520  Westmoreland County\n",
       "35      22408          Wise County\n",
       "37      24230   King George County\n",
       "...       ...                  ...\n",
       "98556   24549       Bedford County\n",
       "98650   24088       Lynchburg city\n",
       "98670   24137       Lynchburg city\n",
       "98700  241078       Bedford County\n",
       "98702   24168       Bedford County\n",
       "\n",
       "[1680 rows x 2 columns]"
      ]
     },
     "execution_count": 84,
     "metadata": {},
     "output_type": "execute_result"
    }
   ],
   "source": [
    "data_zip_county"
   ]
  },
  {
   "cell_type": "code",
   "execution_count": 76,
   "id": "35341c6a",
   "metadata": {},
   "outputs": [],
   "source": [
    "del data_2010['county']"
   ]
  },
  {
   "cell_type": "code",
   "execution_count": 79,
   "id": "2cc0445e",
   "metadata": {},
   "outputs": [],
   "source": [
    "data_2010 = pd.merge(data_2010, data_zip_county, how='left', on=\"zip\")"
   ]
  },
  {
   "cell_type": "code",
   "execution_count": null,
   "id": "c393707d",
   "metadata": {},
   "outputs": [],
   "source": []
  },
  {
   "cell_type": "code",
   "execution_count": null,
   "id": "4c8e25df",
   "metadata": {},
   "outputs": [],
   "source": []
  }
 ],
 "metadata": {
  "kernelspec": {
   "display_name": "Python 3",
   "language": "python",
   "name": "python3"
  },
  "language_info": {
   "codemirror_mode": {
    "name": "ipython",
    "version": 3
   },
   "file_extension": ".py",
   "mimetype": "text/x-python",
   "name": "python",
   "nbconvert_exporter": "python",
   "pygments_lexer": "ipython3",
   "version": "3.8.8"
  }
 },
 "nbformat": 4,
 "nbformat_minor": 5
}
